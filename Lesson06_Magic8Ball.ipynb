{
 "cells": [
  {
   "cell_type": "markdown",
   "metadata": {},
   "source": [
    "### Lesson 06 Magic 8 Ball - Make it yourself\n",
    "<img src=\"http://res.cloudinary.com/dkoqxjnsr/image/upload/v1527541041/magic8ball_g4zsbr.png\" width=\"200px\">\n",
    "\n",
    "* Must include a text box for a question\n",
    "* Must include a label for a response\n",
    "* Must include a button called btnAsk\n",
    "* Must include an image of the 8 ball. You can find one online.\n",
    "* You may use Kotlin if or when as you wish: https://kotlinlang.org/docs/reference/control-flow.html\n",
    "* Must include a random number to generate a response.\n",
    "* Must use Toast to prompt after every 7 questions: \"You sure are inquisitive, aren't you?\"\n",
    "* Must submit your project to GitHub when you first create it and when you update (minimum two commits)"
   ]
  },
  {
   "cell_type": "code",
   "execution_count": null,
   "metadata": {
    "collapsed": true
   },
   "outputs": [],
   "source": [
    "<!-- show the screens below and tell students to create the program based on what they believe meets the stated requirements-->\n",
    "\n",
    "<!--https://stackoverflow.com/questions/5271448/how-to-detect-shake-event-with-android -->"
   ]
  }
 ],
 "metadata": {
  "kernelspec": {
   "display_name": "Python [default]",
   "language": "python",
   "name": "python2"
  },
  "language_info": {
   "codemirror_mode": {
    "name": "ipython",
    "version": 2
   },
   "file_extension": ".py",
   "mimetype": "text/x-python",
   "name": "python",
   "nbconvert_exporter": "python",
   "pygments_lexer": "ipython2",
   "version": "2.7.12"
  }
 },
 "nbformat": 4,
 "nbformat_minor": 1
}
